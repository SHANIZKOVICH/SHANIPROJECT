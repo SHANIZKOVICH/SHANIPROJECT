{
 "cells": [
  {
   "cell_type": "markdown",
   "metadata": {},
   "source": [
    "# DA Final project:\n",
    "\n",
    "## Group 100\n",
    "\n",
    "# <b id='Read-data'> Australia Car Market Data</b> <b style='color: #F05454'>EDA Project</b>\n",
    "Link to the data source - https://www.kaggle.com/datasets/lainguyn123/australia-car-market-data/data\n",
    "\n",
    "###  Name of students:\n",
    "Shani Izkovich<br>\n",
    "\n"
   ]
  },
  {
   "cell_type": "markdown",
    "id" : "760e6d6a-9e5f-4e81-9b70-1541ee5d36c3.jpeg",
   "metadata": {},
   "source": [
    "<div>\n",
    "    <img src=\"760e6d6a-9e5f-4e81-9b70-1541ee5d36c3.jpeg \" width=\"900\"/>\n",
    "</div>"
   ]
  },
  {
   "cell_type": "markdown",
   "metadata": {},
   "source": [
    "___\n",
    "# <b> </b> <b style='color:bleck'>About Dataset</b>\n",
    "\n",
    "\n",
    "# <b> </b> <b style='color:#F05454'>Context</b>"
   ]
  },
  {
   "cell_type": "markdown",
   "metadata": {},
   "source": [
    "<div dir=\"rtl\" style=\"text-align: right; white-space: pre-line;\">\n",
    "<b>קובץ הנתונים: \"Australia Car Market Data\"    \n",
    "מערך הנתונים מספק מידע מפורט על שוק הרכב באוסטרליה, כולל מאפיינים כגון קוד רכב, שם רכב, מחיר רכב, מותג רכב, שנת דגם רכב, סוג תיבת הילוכים, סוג עיצוב, סוג דלק, מצב המכונית, קילומטראז', נפח מנוע, רכב צבע ויכולת ישיבה. זהו מקור עשיר של נתונים שעוזר לחקור מגמות ודינמיקה בשוק הרכב האוסטרלי.\n",
    "</div>\n",
    "    "
   ]
  },
  {
   "cell_type": "markdown",
   "metadata": {},
   "source": [
    "### **Column Descriptions**\n",
    "\n",
    "- **ID**: Car Code (Unique identifier for each car)\n",
    "- **Name**: Car Name (Name or model of the car)\n",
    "- **Price**: Car Price (Cost of the car in the market)\n",
    "- **Brand**: Car Brand (Manufacturer or brand of the car)\n",
    "- **Model**: Car Model Year (The year model of the car)\n",
    "- **Variant**: Car Variant (Specific version or variant of the car)\n",
    "- **Series**: Car Series (Series or generation of the car model)\n",
    "- **Year**: Year of Manufacture (Year the car was manufactured)\n",
    "- **Gearbox**: Gearbox Type (Type of transmission, e.g., manual or automatic)\n",
    "- **Type**: Body Design (Design type, such as sedan, SUV, etc.)\n",
    "- **Fuel**: Fuel Type (Type of fuel used, e.g., petrol, diesel, electric)\n",
    "- **Status**: Car Condition (Condition of the car, such as new or used)\n",
    "- **Kilometers**: Mileage (Distance traveled by the car in kilometers)\n",
    "- **CC**: Engine Capacity (Engine displacement in cubic centimeters)\n",
    "- **Color**: Car Color (Color of the car)\n",
    "- **Seating Capacity**: Seating Capacity (Number of seats in the car)\n"
   ]
  },
  {
   "cell_type": "markdown",
   "metadata": {},
   "source": [
    "___\n",
    "#  <b id=\"introductions\"> </b> <b style='color:black'>Introduction </b> <b> &  Basic <b style='color:#F05454'>EDA. </b>  \n"
   ]
  },
  {
   "cell_type": "markdown",
   "metadata": {},
   "source": [
    "<b id=\"Top\"> </b>  \n",
    "\n",
    "1. [Importing Libraries](#1.-Importing-Libraries)\n",
    "2. [Read Data](#2.-Read-Data)\n",
    "3. [EDA Project](#3.-EDA-Project)\n",
    "4. [conclusions](#4.-conclusions)\n",
    "\n",
    "---"
   ]
  },
  {
   "cell_type": "markdown",
   "metadata": {},
   "source": [
    "# <b id='Importing Libraries.'>1.</b> <b style='color: #F05454'>Importing Libraries</b>"
   ]
  },
  {
   "cell_type": "code",
   "execution_count": 1,
   "metadata": {
    "id": "yULzFfiYKOKV"
   },
   "outputs": [],
   "source": [
    "import pandas as pd\n",
    "import numpy as np\n",
    "import matplotlib.pyplot as plt\n",
    "import seaborn as sns\n",
    "import matplotlib.pyplot as plt\n",
    "import sklearn as sk\n",
    "from datetime import date"
   ]
  },
  {
   "cell_type": "markdown",
   "metadata": {},
   "source": [
    "___\n",
    "# <b id='Read-data'>2.</b> <b style='color: #F05454'>Read Data</b>"
   ]
  },
  {
   "cell_type": "code",
   "execution_count": 2,
   "metadata": {},
   "outputs": [
    {
     "data": {
      "text/html": [
       "<div>\n",
       "<style scoped>\n",
       "    .dataframe tbody tr th:only-of-type {\n",
       "        vertical-align: middle;\n",
       "    }\n",
       "\n",
       "    .dataframe tbody tr th {\n",
       "        vertical-align: top;\n",
       "    }\n",
       "\n",
       "    .dataframe thead th {\n",
       "        text-align: right;\n",
       "    }\n",
       "</style>\n",
       "<table border=\"1\" class=\"dataframe\">\n",
       "  <thead>\n",
       "    <tr style=\"text-align: right;\">\n",
       "      <th></th>\n",
       "      <th>ID</th>\n",
       "      <th>Name</th>\n",
       "      <th>Price</th>\n",
       "      <th>Brand</th>\n",
       "      <th>Model</th>\n",
       "      <th>Variant</th>\n",
       "      <th>Series</th>\n",
       "      <th>Year</th>\n",
       "      <th>Kilometers</th>\n",
       "      <th>Type</th>\n",
       "      <th>Gearbox</th>\n",
       "      <th>Fuel</th>\n",
       "      <th>Status</th>\n",
       "      <th>CC</th>\n",
       "      <th>Color</th>\n",
       "      <th>Seating Capacity</th>\n",
       "    </tr>\n",
       "  </thead>\n",
       "  <tbody>\n",
       "    <tr>\n",
       "      <th>0</th>\n",
       "      <td>11530130</td>\n",
       "      <td>2010 Toyota Rukus Build 2 AZE151R</td>\n",
       "      <td>9999</td>\n",
       "      <td>Toyota</td>\n",
       "      <td>Rukus</td>\n",
       "      <td>Build 2</td>\n",
       "      <td>AZE151R</td>\n",
       "      <td>2010</td>\n",
       "      <td>263000</td>\n",
       "      <td>Wagon</td>\n",
       "      <td>Automatic</td>\n",
       "      <td>Unleaded Petrol</td>\n",
       "      <td>Used</td>\n",
       "      <td>2362</td>\n",
       "      <td>Grey</td>\n",
       "      <td>5</td>\n",
       "    </tr>\n",
       "    <tr>\n",
       "      <th>1</th>\n",
       "      <td>12190570</td>\n",
       "      <td>2021 Mercedes-Benz V 250 D Avantgarde MWB 447 ...</td>\n",
       "      <td>117990</td>\n",
       "      <td>Mercedes-Benz</td>\n",
       "      <td>V</td>\n",
       "      <td>250 D Avantgarde MWB</td>\n",
       "      <td>447 MY21</td>\n",
       "      <td>2021</td>\n",
       "      <td>19</td>\n",
       "      <td>Wagon</td>\n",
       "      <td>Automatic</td>\n",
       "      <td>Diesel</td>\n",
       "      <td>New In Stock</td>\n",
       "      <td>2143</td>\n",
       "      <td>Black</td>\n",
       "      <td>7</td>\n",
       "    </tr>\n",
       "    <tr>\n",
       "      <th>2</th>\n",
       "      <td>12321855</td>\n",
       "      <td>2021 Mercedes-Benz Valente 116 CDI MWB RWD 447...</td>\n",
       "      <td>79990</td>\n",
       "      <td>Mercedes-Benz</td>\n",
       "      <td>Valente</td>\n",
       "      <td>116 CDI MWB RWD</td>\n",
       "      <td>447 MY21</td>\n",
       "      <td>2021</td>\n",
       "      <td>24</td>\n",
       "      <td>Wagon</td>\n",
       "      <td>Automatic</td>\n",
       "      <td>Diesel</td>\n",
       "      <td>New In Stock</td>\n",
       "      <td>2143</td>\n",
       "      <td>Black</td>\n",
       "      <td>8</td>\n",
       "    </tr>\n",
       "    <tr>\n",
       "      <th>3</th>\n",
       "      <td>12346971</td>\n",
       "      <td>2010 Mercedes-Benz E250 CDI Avantgarde 207</td>\n",
       "      <td>34990</td>\n",
       "      <td>Mercedes-Benz</td>\n",
       "      <td>E250</td>\n",
       "      <td>CDI Avantgarde</td>\n",
       "      <td>207</td>\n",
       "      <td>2010</td>\n",
       "      <td>120579</td>\n",
       "      <td>Cabriolet</td>\n",
       "      <td>Automatic</td>\n",
       "      <td>Diesel</td>\n",
       "      <td>Used</td>\n",
       "      <td>2143</td>\n",
       "      <td>Black</td>\n",
       "      <td>4</td>\n",
       "    </tr>\n",
       "    <tr>\n",
       "      <th>4</th>\n",
       "      <td>12363884</td>\n",
       "      <td>2016 Holden Cruze CD JH MY16</td>\n",
       "      <td>15990</td>\n",
       "      <td>Holden</td>\n",
       "      <td>Cruze</td>\n",
       "      <td>CD</td>\n",
       "      <td>JH MY16</td>\n",
       "      <td>2016</td>\n",
       "      <td>72506</td>\n",
       "      <td>Sportswagon</td>\n",
       "      <td>Automatic</td>\n",
       "      <td>Unleaded Petrol</td>\n",
       "      <td>Used</td>\n",
       "      <td>1796</td>\n",
       "      <td>White</td>\n",
       "      <td>5</td>\n",
       "    </tr>\n",
       "  </tbody>\n",
       "</table>\n",
       "</div>"
      ],
      "text/plain": [
       "         ID                                               Name   Price  \\\n",
       "0  11530130                  2010 Toyota Rukus Build 2 AZE151R    9999   \n",
       "1  12190570  2021 Mercedes-Benz V 250 D Avantgarde MWB 447 ...  117990   \n",
       "2  12321855  2021 Mercedes-Benz Valente 116 CDI MWB RWD 447...   79990   \n",
       "3  12346971         2010 Mercedes-Benz E250 CDI Avantgarde 207   34990   \n",
       "4  12363884                       2016 Holden Cruze CD JH MY16   15990   \n",
       "\n",
       "           Brand    Model               Variant    Series  Year  Kilometers  \\\n",
       "0         Toyota    Rukus               Build 2   AZE151R  2010      263000   \n",
       "1  Mercedes-Benz        V  250 D Avantgarde MWB  447 MY21  2021          19   \n",
       "2  Mercedes-Benz  Valente       116 CDI MWB RWD  447 MY21  2021          24   \n",
       "3  Mercedes-Benz     E250        CDI Avantgarde       207  2010      120579   \n",
       "4         Holden    Cruze                    CD   JH MY16  2016       72506   \n",
       "\n",
       "          Type    Gearbox             Fuel         Status    CC  Color  \\\n",
       "0        Wagon  Automatic  Unleaded Petrol           Used  2362   Grey   \n",
       "1        Wagon  Automatic           Diesel   New In Stock  2143  Black   \n",
       "2        Wagon  Automatic           Diesel   New In Stock  2143  Black   \n",
       "3    Cabriolet  Automatic           Diesel           Used  2143  Black   \n",
       "4  Sportswagon  Automatic  Unleaded Petrol           Used  1796  White   \n",
       "\n",
       "   Seating Capacity  \n",
       "0                 5  \n",
       "1                 7  \n",
       "2                 8  \n",
       "3                 4  \n",
       "4                 5  "
      ]
     },
     "execution_count": 2,
     "metadata": {},
     "output_type": "execute_result"
    }
   ],
   "source": [
    "df = pd.read_csv('cars_info.csv')\n",
    "df = df.copy()\n",
    "df.head()"
   ]
  },
  {
   "cell_type": "code",
   "execution_count": 3,
   "metadata": {},
   "outputs": [
    {
     "data": {
      "text/plain": [
       "(17048, 16)"
      ]
     },
     "execution_count": 3,
     "metadata": {},
     "output_type": "execute_result"
    }
   ],
   "source": [
    "df.shape"
   ]
  },
  {
   "cell_type": "code",
   "execution_count": 4,
   "metadata": {},
   "outputs": [
    {
     "data": {
      "text/plain": [
       "ID                   int64\n",
       "Name                object\n",
       "Price                int64\n",
       "Brand               object\n",
       "Model               object\n",
       "Variant             object\n",
       "Series              object\n",
       "Year                 int64\n",
       "Kilometers           int64\n",
       "Type                object\n",
       "Gearbox             object\n",
       "Fuel                object\n",
       "Status              object\n",
       "CC                   int64\n",
       "Color               object\n",
       "Seating Capacity     int64\n",
       "dtype: object"
      ]
     },
     "execution_count": 4,
     "metadata": {},
     "output_type": "execute_result"
    }
   ],
   "source": [
    "df.dtypes"
   ]
  },
  {
   "cell_type": "code",
   "execution_count": 5,
   "metadata": {},
   "outputs": [
    {
     "data": {
      "text/plain": [
       "ID                  0\n",
       "Name                0\n",
       "Price               0\n",
       "Brand               0\n",
       "Model               0\n",
       "Variant             0\n",
       "Series              0\n",
       "Year                0\n",
       "Kilometers          0\n",
       "Type                0\n",
       "Gearbox             0\n",
       "Fuel                0\n",
       "Status              0\n",
       "CC                  0\n",
       "Color               0\n",
       "Seating Capacity    0\n",
       "dtype: int64"
      ]
     },
     "execution_count": 5,
     "metadata": {},
     "output_type": "execute_result"
    }
   ],
   "source": [
    "df.isnull().sum().sort_values()"
   ]
  },
  {
   "cell_type": "code",
   "execution_count": 6,
   "metadata": {},
   "outputs": [
    {
     "data": {
      "text/plain": [
       "count    17048.000000\n",
       "mean      2491.830303\n",
       "std        881.985562\n",
       "min        875.000000\n",
       "25%       1987.000000\n",
       "50%       2354.000000\n",
       "75%       2981.000000\n",
       "max       7300.000000\n",
       "Name: CC, dtype: float64"
      ]
     },
     "execution_count": 6,
     "metadata": {},
     "output_type": "execute_result"
    }
   ],
   "source": [
    "df['CC'].describe()"
   ]
  },
  {
   "cell_type": "code",
   "execution_count": 7,
   "metadata": {},
   "outputs": [
    {
     "data": {
      "image/png": "[encoded data removed]",
      "text/plain": [
       "<Figure size 720x432 with 1 Axes>"
      ]
     },
     "metadata": {
      "needs_background": "light"
     },
     "output_type": "display_data"
    }
   ],
   "source": [
    "plt.figure(figsize=(10, 6))\n",
    "sns.histplot(df['CC'], bins=20, kde=True, color='skyblue', edgecolor='black')\n",
    "plt.title('Density Plot of Engine Capacity')\n",
    "plt.xlabel('Engine Capacity (CC)')\n",
    "plt.ylabel('Frequency')\n",
    "plt.grid(True)\n",
    "plt.show()"
   ]
  },
  {
   "cell_type": "markdown",
   "metadata": {},
   "source": [
    " ניתן לראות שיש מעט ערכים קיצוניים מעל 5000 סמ\"ק"
   ]
  },
  {
   "cell_type": "code",
   "execution_count": 8,
   "metadata": {},
   "outputs": [
    {
     "data": {
      "text/html": [
       "<div>\n",
       "<style scoped>\n",
       "    .dataframe tbody tr th:only-of-type {\n",
       "        vertical-align: middle;\n",
       "    }\n",
       "\n",
       "    .dataframe tbody tr th {\n",
       "        vertical-align: top;\n",
       "    }\n",
       "\n",
       "    .dataframe thead th {\n",
       "        text-align: right;\n",
       "    }\n",
       "</style>\n",
       "<table border=\"1\" class=\"dataframe\">\n",
       "  <thead>\n",
       "    <tr style=\"text-align: right;\">\n",
       "      <th></th>\n",
       "      <th>ID</th>\n",
       "      <th>Name</th>\n",
       "      <th>Price</th>\n",
       "      <th>Brand</th>\n",
       "      <th>Model</th>\n",
       "      <th>Variant</th>\n",
       "      <th>Series</th>\n",
       "      <th>Year</th>\n",
       "      <th>Kilometers</th>\n",
       "      <th>Type</th>\n",
       "      <th>Gearbox</th>\n",
       "      <th>Fuel</th>\n",
       "      <th>Status</th>\n",
       "      <th>CC</th>\n",
       "      <th>Color</th>\n",
       "      <th>Seating Capacity</th>\n",
       "    </tr>\n",
       "  </thead>\n",
       "  <tbody>\n",
       "    <tr>\n",
       "      <th>8</th>\n",
       "      <td>12382945</td>\n",
       "      <td>2005 Holden Statesman International WL</td>\n",
       "      <td>15490</td>\n",
       "      <td>Holden</td>\n",
       "      <td>Statesman</td>\n",
       "      <td>International</td>\n",
       "      <td>WL</td>\n",
       "      <td>2005</td>\n",
       "      <td>172151</td>\n",
       "      <td>Sedan</td>\n",
       "      <td>Automatic</td>\n",
       "      <td>Unleaded Petrol</td>\n",
       "      <td>Used</td>\n",
       "      <td>5665</td>\n",
       "      <td>Blue</td>\n",
       "      <td>5</td>\n",
       "    </tr>\n",
       "    <tr>\n",
       "      <th>9</th>\n",
       "      <td>12382946</td>\n",
       "      <td>2003 Holden Commodore Berlina Vyii</td>\n",
       "      <td>15490</td>\n",
       "      <td>Holden</td>\n",
       "      <td>Commodore</td>\n",
       "      <td>Berlina</td>\n",
       "      <td>Vyii</td>\n",
       "      <td>2003</td>\n",
       "      <td>186990</td>\n",
       "      <td>Sedan</td>\n",
       "      <td>Automatic</td>\n",
       "      <td>Unleaded Petrol</td>\n",
       "      <td>Used</td>\n",
       "      <td>5665</td>\n",
       "      <td>Green</td>\n",
       "      <td>5</td>\n",
       "    </tr>\n",
       "    <tr>\n",
       "      <th>93</th>\n",
       "      <td>12678997</td>\n",
       "      <td>2007 Holden Commodore SS-V VE</td>\n",
       "      <td>26980</td>\n",
       "      <td>Holden</td>\n",
       "      <td>Commodore</td>\n",
       "      <td>SS-V</td>\n",
       "      <td>VE</td>\n",
       "      <td>2007</td>\n",
       "      <td>178515</td>\n",
       "      <td>Sedan</td>\n",
       "      <td>Automatic</td>\n",
       "      <td>Premium Unleaded Petrol</td>\n",
       "      <td>Used</td>\n",
       "      <td>5967</td>\n",
       "      <td>Green</td>\n",
       "      <td>5</td>\n",
       "    </tr>\n",
       "    <tr>\n",
       "      <th>111</th>\n",
       "      <td>12687308</td>\n",
       "      <td>2012 Jeep Grand Cherokee Overland (4X4) WK</td>\n",
       "      <td>31990</td>\n",
       "      <td>Jeep</td>\n",
       "      <td>Grand Cherokee</td>\n",
       "      <td>Overland (4X4)</td>\n",
       "      <td>WK</td>\n",
       "      <td>2012</td>\n",
       "      <td>150996</td>\n",
       "      <td>Wagon</td>\n",
       "      <td>Automatic</td>\n",
       "      <td>Premium Unleaded Petrol</td>\n",
       "      <td>Used</td>\n",
       "      <td>5654</td>\n",
       "      <td>Red</td>\n",
       "      <td>5</td>\n",
       "    </tr>\n",
       "    <tr>\n",
       "      <th>156</th>\n",
       "      <td>12688939</td>\n",
       "      <td>2020 Ram 1500 Warlock (black/Grey/HYD Blue) MY20</td>\n",
       "      <td>110990</td>\n",
       "      <td>Ram</td>\n",
       "      <td>1500</td>\n",
       "      <td>Warlock (black/Grey/HYD Blue)</td>\n",
       "      <td>MY20</td>\n",
       "      <td>2020</td>\n",
       "      <td>39969</td>\n",
       "      <td>Crew Cab Utility</td>\n",
       "      <td>Automatic</td>\n",
       "      <td>Unleaded Petrol</td>\n",
       "      <td>Used</td>\n",
       "      <td>5654</td>\n",
       "      <td>Grey</td>\n",
       "      <td>5</td>\n",
       "    </tr>\n",
       "    <tr>\n",
       "      <th>...</th>\n",
       "      <td>...</td>\n",
       "      <td>...</td>\n",
       "      <td>...</td>\n",
       "      <td>...</td>\n",
       "      <td>...</td>\n",
       "      <td>...</td>\n",
       "      <td>...</td>\n",
       "      <td>...</td>\n",
       "      <td>...</td>\n",
       "      <td>...</td>\n",
       "      <td>...</td>\n",
       "      <td>...</td>\n",
       "      <td>...</td>\n",
       "      <td>...</td>\n",
       "      <td>...</td>\n",
       "      <td>...</td>\n",
       "    </tr>\n",
       "    <tr>\n",
       "      <th>16848</th>\n",
       "      <td>12851067</td>\n",
       "      <td>2015 Holden UTE SS VF MY15</td>\n",
       "      <td>41990</td>\n",
       "      <td>Holden</td>\n",
       "      <td>UTE</td>\n",
       "      <td>SS</td>\n",
       "      <td>VF MY15</td>\n",
       "      <td>2015</td>\n",
       "      <td>95800</td>\n",
       "      <td>Utility</td>\n",
       "      <td>Manual</td>\n",
       "      <td>Unleaded Petrol</td>\n",
       "      <td>Used</td>\n",
       "      <td>5967</td>\n",
       "      <td>Blue</td>\n",
       "      <td>2</td>\n",
       "    </tr>\n",
       "    <tr>\n",
       "      <th>16874</th>\n",
       "      <td>12851203</td>\n",
       "      <td>2003 Holden Commodore SV8 VY</td>\n",
       "      <td>13990</td>\n",
       "      <td>Holden</td>\n",
       "      <td>Commodore</td>\n",
       "      <td>SV8</td>\n",
       "      <td>VY</td>\n",
       "      <td>2003</td>\n",
       "      <td>285650</td>\n",
       "      <td>Sedan</td>\n",
       "      <td>Automatic</td>\n",
       "      <td>Unleaded Petrol</td>\n",
       "      <td>Used</td>\n",
       "      <td>5665</td>\n",
       "      <td>Silver</td>\n",
       "      <td>5</td>\n",
       "    </tr>\n",
       "    <tr>\n",
       "      <th>16928</th>\n",
       "      <td>12851536</td>\n",
       "      <td>2014 Holden Commodore SS VF</td>\n",
       "      <td>36000</td>\n",
       "      <td>Holden</td>\n",
       "      <td>Commodore</td>\n",
       "      <td>SS</td>\n",
       "      <td>VF</td>\n",
       "      <td>2014</td>\n",
       "      <td>128000</td>\n",
       "      <td>Sedan</td>\n",
       "      <td>Automatic</td>\n",
       "      <td>Premium Unleaded Petrol</td>\n",
       "      <td>Used</td>\n",
       "      <td>5967</td>\n",
       "      <td>Grey</td>\n",
       "      <td>5</td>\n",
       "    </tr>\n",
       "    <tr>\n",
       "      <th>16947</th>\n",
       "      <td>12851630</td>\n",
       "      <td>2015 Jeep Grand Cherokee Overland (4X4) WK MY15</td>\n",
       "      <td>44800</td>\n",
       "      <td>Jeep</td>\n",
       "      <td>Grand Cherokee</td>\n",
       "      <td>Overland (4X4)</td>\n",
       "      <td>WK MY15</td>\n",
       "      <td>2015</td>\n",
       "      <td>77202</td>\n",
       "      <td>Wagon</td>\n",
       "      <td>Automatic</td>\n",
       "      <td>Premium Unleaded Petrol</td>\n",
       "      <td>Used</td>\n",
       "      <td>5654</td>\n",
       "      <td>White</td>\n",
       "      <td>5</td>\n",
       "    </tr>\n",
       "    <tr>\n",
       "      <th>16992</th>\n",
       "      <td>12851945</td>\n",
       "      <td>2010 Land Rover Discovery 4 5.0 V8 MY10</td>\n",
       "      <td>59990</td>\n",
       "      <td>Land Rover</td>\n",
       "      <td>Discovery 4</td>\n",
       "      <td>5.0 V8</td>\n",
       "      <td>MY10</td>\n",
       "      <td>2010</td>\n",
       "      <td>127581</td>\n",
       "      <td>Wagon</td>\n",
       "      <td>Automatic</td>\n",
       "      <td>Premium Unleaded Petrol</td>\n",
       "      <td>Used</td>\n",
       "      <td>5000</td>\n",
       "      <td>White</td>\n",
       "      <td>7</td>\n",
       "    </tr>\n",
       "  </tbody>\n",
       "</table>\n",
       "<p>377 rows × 16 columns</p>\n",
       "</div>"
      ],
      "text/plain": [
       "             ID                                              Name   Price  \\\n",
       "8      12382945            2005 Holden Statesman International WL   15490   \n",
       "9      12382946                2003 Holden Commodore Berlina Vyii   15490   \n",
       "93     12678997                     2007 Holden Commodore SS-V VE   26980   \n",
       "111    12687308        2012 Jeep Grand Cherokee Overland (4X4) WK   31990   \n",
       "156    12688939  2020 Ram 1500 Warlock (black/Grey/HYD Blue) MY20  110990   \n",
       "...         ...                                               ...     ...   \n",
       "16848  12851067                        2015 Holden UTE SS VF MY15   41990   \n",
       "16874  12851203                      2003 Holden Commodore SV8 VY   13990   \n",
       "16928  12851536                       2014 Holden Commodore SS VF   36000   \n",
       "16947  12851630   2015 Jeep Grand Cherokee Overland (4X4) WK MY15   44800   \n",
       "16992  12851945           2010 Land Rover Discovery 4 5.0 V8 MY10   59990   \n",
       "\n",
       "            Brand           Model                        Variant   Series  \\\n",
       "8          Holden       Statesman                  International       WL   \n",
       "9          Holden       Commodore                        Berlina     Vyii   \n",
       "93         Holden       Commodore                           SS-V       VE   \n",
       "111          Jeep  Grand Cherokee                 Overland (4X4)       WK   \n",
       "156           Ram            1500  Warlock (black/Grey/HYD Blue)     MY20   \n",
       "...           ...             ...                            ...      ...   \n",
       "16848      Holden             UTE                             SS  VF MY15   \n",
       "16874      Holden       Commodore                            SV8       VY   \n",
       "16928      Holden       Commodore                             SS       VF   \n",
       "16947        Jeep  Grand Cherokee                 Overland (4X4)  WK MY15   \n",
       "16992  Land Rover     Discovery 4                         5.0 V8     MY10   \n",
       "\n",
       "       Year  Kilometers              Type    Gearbox                     Fuel  \\\n",
       "8      2005      172151             Sedan  Automatic          Unleaded Petrol   \n",
       "9      2003      186990             Sedan  Automatic          Unleaded Petrol   \n",
       "93     2007      178515             Sedan  Automatic  Premium Unleaded Petrol   \n",
       "111    2012      150996             Wagon  Automatic  Premium Unleaded Petrol   \n",
       "156    2020       39969  Crew Cab Utility  Automatic          Unleaded Petrol   \n",
       "...     ...         ...               ...        ...                      ...   \n",
       "16848  2015       95800           Utility     Manual          Unleaded Petrol   \n",
       "16874  2003      285650             Sedan  Automatic          Unleaded Petrol   \n",
       "16928  2014      128000             Sedan  Automatic  Premium Unleaded Petrol   \n",
       "16947  2015       77202             Wagon  Automatic  Premium Unleaded Petrol   \n",
       "16992  2010      127581             Wagon  Automatic  Premium Unleaded Petrol   \n",
       "\n",
       "      Status    CC   Color  Seating Capacity  \n",
       "8       Used  5665    Blue                 5  \n",
       "9       Used  5665   Green                 5  \n",
       "93      Used  5967   Green                 5  \n",
       "111     Used  5654     Red                 5  \n",
       "156     Used  5654    Grey                 5  \n",
       "...      ...   ...     ...               ...  \n",
       "16848   Used  5967    Blue                 2  \n",
       "16874   Used  5665  Silver                 5  \n",
       "16928   Used  5967    Grey                 5  \n",
       "16947   Used  5654   White                 5  \n",
       "16992   Used  5000   White                 7  \n",
       "\n",
       "[377 rows x 16 columns]"
      ]
     },
     "execution_count": 8,
     "metadata": {},
     "output_type": "execute_result"
    }
   ],
   "source": [
    "df[df['CC'] >= 5000]"
   ]
  },
  {
   "cell_type": "markdown",
   "metadata": {},
   "source": [
    " נגדיר טווחים לעמודת נפח המנוע"
   ]
  },
  {
   "cell_type": "code",
   "execution_count": 9,
   "metadata": {},
   "outputs": [],
   "source": [
    "def convert_cc_to_ranges(df):\n",
    "    bins = [0, 1000, 1500, 2000, 2500, 3000,3500, 4000, 5000, float('inf')]\n",
    "    labels = ['0-1000', '1000-1500', '1500-2000', '2000-2500', '2500-3000', '3000-3500','3500-4000', '4000-5000', 'Over 5000']\n",
    "    df['CC'] = pd.cut(df['CC'], bins=bins, labels=labels, right=False)\n",
    "    return df\n",
    "df = convert_cc_to_ranges(df)"
   ]
  },
  {
   "cell_type": "code",
   "execution_count": 10,
   "metadata": {},
   "outputs": [],
   "source": [
    "df['CC'] = df['CC'].astype('object')"
   ]
  },
  {
   "cell_type": "markdown",
   "metadata": {},
   "source": [
    "נסדר את שאר העמודות הקטגוריות"
   ]
  },
  {
   "cell_type": "code",
   "execution_count": 11,
   "metadata": {},
   "outputs": [
    {
     "data": {
      "text/plain": [
       "array([ 5,  7,  8,  4,  2,  3, 14,  6,  9, 11], dtype=int64)"
      ]
     },
     "execution_count": 11,
     "metadata": {},
     "output_type": "execute_result"
    }
   ],
   "source": [
    "df['Seating Capacity'].unique()"
   ]
  },
  {
   "cell_type": "code",
   "execution_count": 12,
   "metadata": {},
   "outputs": [
    {
     "data": {
      "text/plain": [
       "array([2010, 2021, 2016, 2017, 2011, 2005, 2003, 2015, 2013, 2020, 2009,\n",
       "       2012, 2014, 2019, 2004, 2018, 2022, 2006, 2007, 2008, 2000, 2001,\n",
       "       2002, 1996, 1998, 1999, 1997, 1995, 1991, 1993, 1994, 1989, 1992,\n",
       "       1990], dtype=int64)"
      ]
     },
     "execution_count": 12,
     "metadata": {},
     "output_type": "execute_result"
    }
   ],
   "source": [
    "df['Year'].unique()"
   ]
  },
  {
   "cell_type": "code",
   "execution_count": 13,
   "metadata": {},
   "outputs": [],
   "source": [
    "df['ID'] = df['ID'].astype('object')\n",
    "df['Seating Capacity'] = df['Seating Capacity'].astype('object')"
   ]
  },
  {
   "cell_type": "code",
   "execution_count": 14,
   "metadata": {},
   "outputs": [
    {
     "data": {
      "text/html": [
       "<div>\n",
       "<style scoped>\n",
       "    .dataframe tbody tr th:only-of-type {\n",
       "        vertical-align: middle;\n",
       "    }\n",
       "\n",
       "    .dataframe tbody tr th {\n",
       "        vertical-align: top;\n",
       "    }\n",
       "\n",
       "    .dataframe thead th {\n",
       "        text-align: right;\n",
       "    }\n",
       "</style>\n",
       "<table border=\"1\" class=\"dataframe\">\n",
       "  <thead>\n",
       "    <tr style=\"text-align: right;\">\n",
       "      <th></th>\n",
       "      <th>Category Column</th>\n",
       "      <th>Number of Unique Values</th>\n",
       "    </tr>\n",
       "  </thead>\n",
       "  <tbody>\n",
       "    <tr>\n",
       "      <th>0</th>\n",
       "      <td>ID</td>\n",
       "      <td>17048</td>\n",
       "    </tr>\n",
       "    <tr>\n",
       "      <th>1</th>\n",
       "      <td>Name</td>\n",
       "      <td>8575</td>\n",
       "    </tr>\n",
       "    <tr>\n",
       "      <th>2</th>\n",
       "      <td>Brand</td>\n",
       "      <td>59</td>\n",
       "    </tr>\n",
       "    <tr>\n",
       "      <th>3</th>\n",
       "      <td>Model</td>\n",
       "      <td>622</td>\n",
       "    </tr>\n",
       "    <tr>\n",
       "      <th>4</th>\n",
       "      <td>Variant</td>\n",
       "      <td>2363</td>\n",
       "    </tr>\n",
       "    <tr>\n",
       "      <th>5</th>\n",
       "      <td>Series</td>\n",
       "      <td>2286</td>\n",
       "    </tr>\n",
       "    <tr>\n",
       "      <th>6</th>\n",
       "      <td>Type</td>\n",
       "      <td>56</td>\n",
       "    </tr>\n",
       "    <tr>\n",
       "      <th>7</th>\n",
       "      <td>Gearbox</td>\n",
       "      <td>5</td>\n",
       "    </tr>\n",
       "    <tr>\n",
       "      <th>8</th>\n",
       "      <td>Fuel</td>\n",
       "      <td>7</td>\n",
       "    </tr>\n",
       "    <tr>\n",
       "      <th>9</th>\n",
       "      <td>Status</td>\n",
       "      <td>3</td>\n",
       "    </tr>\n",
       "    <tr>\n",
       "      <th>10</th>\n",
       "      <td>CC</td>\n",
       "      <td>9</td>\n",
       "    </tr>\n",
       "    <tr>\n",
       "      <th>11</th>\n",
       "      <td>Color</td>\n",
       "      <td>235</td>\n",
       "    </tr>\n",
       "    <tr>\n",
       "      <th>12</th>\n",
       "      <td>Seating Capacity</td>\n",
       "      <td>10</td>\n",
       "    </tr>\n",
       "  </tbody>\n",
       "</table>\n",
       "</div>"
      ],
      "text/plain": [
       "     Category Column  Number of Unique Values\n",
       "0                 ID                    17048\n",
       "1               Name                     8575\n",
       "2              Brand                       59\n",
       "3              Model                      622\n",
       "4            Variant                     2363\n",
       "5             Series                     2286\n",
       "6               Type                       56\n",
       "7            Gearbox                        5\n",
       "8               Fuel                        7\n",
       "9             Status                        3\n",
       "10                CC                        9\n",
       "11             Color                      235\n",
       "12  Seating Capacity                       10"
      ]
     },
     "execution_count": 14,
     "metadata": {},
     "output_type": "execute_result"
    }
   ],
   "source": [
    "object_columns = df.select_dtypes(include='object').columns\n",
    "unique_values_table = pd.DataFrame({\n",
    "    'Category Column': object_columns,\n",
    "    'Number of Unique Values': [df[col].nunique() for col in object_columns]\n",
    "})\n",
    "unique_values_table"
   ]
  },
  {
   "cell_type": "markdown",
   "metadata": {},
   "source": [
    "___\n",
    "# <b>3.</b> <b style='color:#F05454'>EDA Project</b>\n",
    "<ul>\n"
   ]
  },
  {
   "cell_type": "code",
   "execution_count": 15,
   "metadata": {},
   "outputs": [],
   "source": [
    "def plot_category_count(df, categorical_col):\n",
    "    plt.figure(figsize=(10, 6)) \n",
    "    sns.countplot(x=categorical_col, data=df, palette='viridis')\n",
    "    plt.title(f'Count of Each Category in {categorical_col}', fontsize=14)\n",
    "    plt.xlabel(categorical_col, fontsize=12)\n",
    "    plt.ylabel('Count', fontsize=12)\n",
    "    plt.xticks(rotation=45)\n",
    "    plt.tight_layout()\n",
    "    plt.show()"
   ]
  },
  {
   "cell_type": "code",
   "execution_count": 16,
   "metadata": {},
   "outputs": [
    {
     "name": "stderr",
     "output_type": "stream",
     "text": [
      "<ipython-input-15-21ae62348e86>:3: FutureWarning: \n",
      "\n",
      "Passing `palette` without assigning `hue` is deprecated and will be removed in v0.14.0. Assign the `x` variable to `hue` and set `legend=False` for the same effect.\n",
      "\n",
      "  sns.countplot(x=categorical_col, data=df, palette='viridis')\n"
     ]
    },
    {
     "data": {
      "image/png": "[encoded data removed]",
      "text/plain": [
       "<Figure size 720x432 with 1 Axes>"
      ]
     },
     "metadata": {
      "needs_background": "light"
     },
     "output_type": "display_data"
    }
   ],
   "source": [
    "plot_category_count(df, 'Gearbox')"
   ]
  },
  {
   "cell_type": "code",
   "execution_count": 17,
   "metadata": {},
   "outputs": [],
   "source": [
    "df = df[df['Gearbox'].isin(['Manual', 'Automatic'])]"
   ]
  },
  {
   "cell_type": "code",
   "execution_count": 18,
   "metadata": {},
   "outputs": [
    {
     "data": {
      "text/plain": [
       "(17024, 16)"
      ]
     },
     "execution_count": 18,
     "metadata": {},
     "output_type": "execute_result"
    }
   ],
   "source": [
    "df.shape"
   ]
  },
  {
   "cell_type": "markdown",
   "metadata": {},
   "source": [
    " ניתן לראות שישנן כמה שורות בודדות שתיבת הגיר שלהן היא לא אוטומטית ולכן בחרנו להתרכז רק במכוניות עם גיר ידני ואוטומטי "
   ]
  },
  {
   "cell_type": "code",
   "execution_count": 19,
   "metadata": {},
   "outputs": [
    {
     "data": {
      "image/png": "[encoded data removed]",
      "text/plain": [
       "<Figure size 576x576 with 1 Axes>"
      ]
     },
     "metadata": {},
     "output_type": "display_data"
    }
   ],
   "source": [
    "def plot_pie(df, column_name):\n",
    "    counts = df[column_name].value_counts()\n",
    "    plt.figure(figsize=(8, 8))\n",
    "    plt.pie(counts, labels=counts.index, autopct='%1.1f%%', startangle=140, colors=plt.cm.Paired(range(len(counts))))\n",
    "    plt.title(f'Distribution of {column_name.capitalize()}')\n",
    "    plt.axis('equal') \n",
    "    plt.show()\n",
    "plot_pie(df, 'Gearbox')"
   ]
  },
  {
   "cell_type": "markdown",
   "metadata": {},
   "source": [
    "### **Relationship between category variables and price**"
   ]
  },
  {
   "cell_type": "code",
   "execution_count": 20,
   "metadata": {},
   "outputs": [],
   "source": [
    "def plot_boxplot(df, numeric_col, categorical_col):\n",
    "    plt.figure(figsize=(18, 6)) \n",
    "    sns.boxplot(x=categorical_col, y=numeric_col, data=df)\n",
    "    plt.title(f'Boxplot of {numeric_col} by {categorical_col}', fontsize=14)\n",
    "    plt.xlabel(categorical_col, fontsize=12)\n",
    "    plt.ylabel(numeric_col, fontsize=12)\n",
    "    plt.xticks(rotation=45) \n",
    "    plt.tight_layout()\n",
    "    plt.show()"
   ]
  },
  {
   "cell_type": "code",
   "execution_count": 21,
   "metadata": {},
   "outputs": [],
   "source": [
    "def price_statistics_by_category(df, categorical_col):\n",
    "    stats = df.groupby(categorical_col)['Price'].agg(\n",
    "        Average='mean',\n",
    "        Median='median',\n",
    "        Std_Dev='std',\n",
    "        Min='min',\n",
    "        Max='max',\n",
    "        Count = 'count'\n",
    "    ).reset_index()\n",
    "    return stats"
   ]
  },
  {
   "cell_type": "code",
   "execution_count": 22,
   "metadata": {},
   "outputs": [
    {
     "data": {
      "image/png": "[encoded data removed]",
      "text/plain": [
       "<Figure size 1296x432 with 1 Axes>"
      ]
     },
     "metadata": {
      "needs_background": "light"
     },
     "output_type": "display_data"
    }
   ],
   "source": [
    "plot_boxplot(df, 'Price', 'Gearbox')"
   ]
  },
  {
   "cell_type": "code",
   "execution_count": 23,
   "metadata": {},
   "outputs": [
    {
     "data": {
      "text/html": [
       "<div>\n",
       "<style scoped>\n",
       "    .dataframe tbody tr th:only-of-type {\n",
       "        vertical-align: middle;\n",
       "    }\n",
       "\n",
       "    .dataframe tbody tr th {\n",
       "        vertical-align: top;\n",
       "    }\n",
       "\n",
       "    .dataframe thead th {\n",
       "        text-align: right;\n",
       "    }\n",
       "</style>\n",
       "<table border=\"1\" class=\"dataframe\">\n",
       "  <thead>\n",
       "    <tr style=\"text-align: right;\">\n",
       "      <th></th>\n",
       "      <th>Gearbox</th>\n",
       "      <th>Average</th>\n",
       "      <th>Median</th>\n",
       "      <th>Std_Dev</th>\n",
       "      <th>Min</th>\n",
       "      <th>Max</th>\n",
       "      <th>Count</th>\n",
       "    </tr>\n",
       "  </thead>\n",
       "  <tbody>\n",
       "    <tr>\n",
       "      <th>0</th>\n",
       "      <td>Automatic</td>\n",
       "      <td>38076.585883</td>\n",
       "      <td>31990.0</td>\n",
       "      <td>28932.257545</td>\n",
       "      <td>1350</td>\n",
       "      <td>579900</td>\n",
       "      <td>14578</td>\n",
       "    </tr>\n",
       "    <tr>\n",
       "      <th>1</th>\n",
       "      <td>Manual</td>\n",
       "      <td>28614.838921</td>\n",
       "      <td>19990.0</td>\n",
       "      <td>36223.378513</td>\n",
       "      <td>1000</td>\n",
       "      <td>999000</td>\n",
       "      <td>2446</td>\n",
       "    </tr>\n",
       "  </tbody>\n",
       "</table>\n",
       "</div>"
      ],
      "text/plain": [
       "     Gearbox       Average   Median       Std_Dev   Min     Max  Count\n",
       "0  Automatic  38076.585883  31990.0  28932.257545  1350  579900  14578\n",
       "1     Manual  28614.838921  19990.0  36223.378513  1000  999000   2446"
      ]
     },
     "execution_count": 23,
     "metadata": {},
     "output_type": "execute_result"
    }
   ],
   "source": [
    "price_statistics_by_category(df, 'Gearbox')"
   ]
  },
  {
   "cell_type": "markdown",
   "metadata": {},
   "source": [
    " נציג את 2 הערכים החריגים ברכבים הידניים "
   ]
  },
  {
   "cell_type": "code",
   "execution_count": 24,
   "metadata": {},
   "outputs": [
    {
     "data": {
      "text/html": [
       "<div>\n",
       "<style scoped>\n",
       "    .dataframe tbody tr th:only-of-type {\n",
       "        vertical-align: middle;\n",
       "    }\n",
       "\n",
       "    .dataframe tbody tr th {\n",
       "        vertical-align: top;\n",
       "    }\n",
       "\n",
       "    .dataframe thead th {\n",
       "        text-align: right;\n",
       "    }\n",
       "</style>\n",
       "<table border=\"1\" class=\"dataframe\">\n",
       "  <thead>\n",
       "    <tr style=\"text-align: right;\">\n",
       "      <th></th>\n",
       "      <th>ID</th>\n",
       "      <th>Name</th>\n",
       "      <th>Price</th>\n",
       "      <th>Brand</th>\n",
       "      <th>Model</th>\n",
       "      <th>Variant</th>\n",
       "      <th>Series</th>\n",
       "      <th>Year</th>\n",
       "      <th>Kilometers</th>\n",
       "      <th>Type</th>\n",
       "      <th>Gearbox</th>\n",
       "      <th>Fuel</th>\n",
       "      <th>Status</th>\n",
       "      <th>CC</th>\n",
       "      <th>Color</th>\n",
       "      <th>Seating Capacity</th>\n",
       "    </tr>\n",
       "  </thead>\n",
       "  <tbody>\n",
       "    <tr>\n",
       "      <th>3253</th>\n",
       "      <td>12742504</td>\n",
       "      <td>2016 Porsche 911 R 991 MY16</td>\n",
       "      <td>899900</td>\n",
       "      <td>Porsche</td>\n",
       "      <td>911</td>\n",
       "      <td>R</td>\n",
       "      <td>991 MY16</td>\n",
       "      <td>2016</td>\n",
       "      <td>400</td>\n",
       "      <td>Coupe</td>\n",
       "      <td>Manual</td>\n",
       "      <td>Premium Unleaded Petrol</td>\n",
       "      <td>Used</td>\n",
       "      <td>3500-4000</td>\n",
       "      <td>White</td>\n",
       "      <td>2</td>\n",
       "    </tr>\n",
       "    <tr>\n",
       "      <th>4285</th>\n",
       "      <td>12757389</td>\n",
       "      <td>2016 Porsche 911 R 991 MY16</td>\n",
       "      <td>999000</td>\n",
       "      <td>Porsche</td>\n",
       "      <td>911</td>\n",
       "      <td>R</td>\n",
       "      <td>991 MY16</td>\n",
       "      <td>2016</td>\n",
       "      <td>3409</td>\n",
       "      <td>Coupe</td>\n",
       "      <td>Manual</td>\n",
       "      <td>Premium Unleaded Petrol</td>\n",
       "      <td>Used</td>\n",
       "      <td>3500-4000</td>\n",
       "      <td>Black</td>\n",
       "      <td>2</td>\n",
       "    </tr>\n",
       "  </tbody>\n",
       "</table>\n",
       "</div>"
      ],
      "text/plain": [
       "            ID                         Name   Price    Brand Model Variant  \\\n",
       "3253  12742504  2016 Porsche 911 R 991 MY16  899900  Porsche   911       R   \n",
       "4285  12757389  2016 Porsche 911 R 991 MY16  999000  Porsche   911       R   \n",
       "\n",
       "        Series  Year  Kilometers   Type Gearbox                     Fuel  \\\n",
       "3253  991 MY16  2016         400  Coupe  Manual  Premium Unleaded Petrol   \n",
       "4285  991 MY16  2016        3409  Coupe  Manual  Premium Unleaded Petrol   \n",
       "\n",
       "     Status         CC  Color Seating Capacity  \n",
       "3253   Used  3500-4000  White                2  \n",
       "4285   Used  3500-4000  Black                2  "
      ]
     },
     "execution_count": 24,
     "metadata": {},
     "output_type": "execute_result"
    }
   ],
   "source": [
    "df[(df['Gearbox'] == 'Manual') & (df['Price'] > 600000)]"
   ]
  },
  {
   "cell_type": "markdown",
   "metadata": {},
   "source": [
    " ניתן לראות שישנם 2 ערכים חריגים מאותו סוג רכב בעמודת המחיר של רכבים ידניים , הנחנו שכדי להסיק מסקנה לגבי שאר הרכבים נוכל להזניח את השורות החריגות האלו."
   ]
  },
  {
   "cell_type": "code",
   "execution_count": 25,
   "metadata": {},
   "outputs": [],
   "source": [
    "df = df.drop(df[(df['Gearbox'] == 'Manual') & (df['Price'] > 600000)].index)"
   ]
  },
  {
   "cell_type": "code",
   "execution_count": 26,
   "metadata": {},
   "outputs": [
    {
     "data": {
      "text/html": [
       "<div>\n",
       "<style scoped>\n",
       "    .dataframe tbody tr th:only-of-type {\n",
       "        vertical-align: middle;\n",
       "    }\n",
       "\n",
       "    .dataframe tbody tr th {\n",
       "        vertical-align: top;\n",
       "    }\n",
       "\n",
       "    .dataframe thead th {\n",
       "        text-align: right;\n",
       "    }\n",
       "</style>\n",
       "<table border=\"1\" class=\"dataframe\">\n",
       "  <thead>\n",
       "    <tr style=\"text-align: right;\">\n",
       "      <th></th>\n",
       "      <th>Gearbox</th>\n",
       "      <th>Average</th>\n",
       "      <th>Median</th>\n",
       "      <th>Std_Dev</th>\n",
       "      <th>Min</th>\n",
       "      <th>Max</th>\n",
       "      <th>Count</th>\n",
       "    </tr>\n",
       "  </thead>\n",
       "  <tbody>\n",
       "    <tr>\n",
       "      <th>0</th>\n",
       "      <td>Automatic</td>\n",
       "      <td>38076.585883</td>\n",
       "      <td>31990.0</td>\n",
       "      <td>28932.257545</td>\n",
       "      <td>1350</td>\n",
       "      <td>579900</td>\n",
       "      <td>14578</td>\n",
       "    </tr>\n",
       "    <tr>\n",
       "      <th>1</th>\n",
       "      <td>Manual</td>\n",
       "      <td>27861.291326</td>\n",
       "      <td>19990.0</td>\n",
       "      <td>24828.454215</td>\n",
       "      <td>1000</td>\n",
       "      <td>239000</td>\n",
       "      <td>2444</td>\n",
       "    </tr>\n",
       "  </tbody>\n",
       "</table>\n",
       "</div>"
      ],
      "text/plain": [
       "     Gearbox       Average   Median       Std_Dev   Min     Max  Count\n",
       "0  Automatic  38076.585883  31990.0  28932.257545  1350  579900  14578\n",
       "1     Manual  27861.291326  19990.0  24828.454215  1000  239000   2444"
      ]
     },
     "execution_count": 26,
     "metadata": {},
     "output_type": "execute_result"
    }
   ],
   "source": [
    "price_statistics_by_category(df, 'Gearbox')"
   ]
  },
  {
   "cell_type": "markdown",
   "metadata": {},
   "source": [
    "<div dir=\"rtl\" style=\"text-align: right; white-space: pre-line;\">\n",
    "<b><b>\n",
    "\n",
    "### לאחר חלוקה של הנתונים לרכבים אוטומטיים וידניים הגעתי ל2 מסקנות ביניים:\n",
    "\n",
    "#### 1. ניתן לראות לפי נתוני המחיר הממוצעים (38,076.59 דולר אוסטרלי לרכבים אוטומטיים ו-27,861.29 לרכבים ידניים) ולפי נתוני המחיר החציוניים (31,990 לרכבים אוטומטיים ו19,990 לרכבים ידניים) שרכבים אוטומטיים בדרך כלל יקרים יותר.\n",
    "#### 2. טווח המחירים לרכבים אוטומטיים (1,350 - 579,900) גבוה בהרבה מטווח המחירים לרכבים ידניים (1,000 - 239,000), בנוסף סטיית התקן של 2 הקטגוריות יחסית באותו הגודל לכן נוכל להסיק כי קיימים יותר רכבי יוקרה אוטומטיים עם טווח מחירים גבוה יותר ותוספות רבות יותר לרכב ולכן טווח המחירים גדול יותר. \n",
    "\n",
    "#### בעקבות תוצאות אלו, החלטתי לנסות לראות האם ניתן להעמיק את מובהקות ההבדלים בין רכבים אוטומטיים לידניים.\n",
    "\n",
    "</div>\n"
   ]
  },
  {
   "cell_type": "code",
   "execution_count": null,
   "metadata": {},
   "outputs": [],
   "source": []
  },
  {
   "cell_type": "code",
   "execution_count": 27,
   "metadata": {},
   "outputs": [],
   "source": [
    "dfM = df[df['Gearbox'] =='Manual']\n",
    "dfA = df[df['Gearbox'] ==  'Automatic']"
   ]
  },
  {
   "cell_type": "code",
   "execution_count": 28,
   "metadata": {},
   "outputs": [
    {
     "data": {
      "text/html": [
       "<div>\n",
       "<style scoped>\n",
       "    .dataframe tbody tr th:only-of-type {\n",
       "        vertical-align: middle;\n",
       "    }\n",
       "\n",
       "    .dataframe tbody tr th {\n",
       "        vertical-align: top;\n",
       "    }\n",
       "\n",
       "    .dataframe thead th {\n",
       "        text-align: right;\n",
       "    }\n",
       "</style>\n",
       "<table border=\"1\" class=\"dataframe\">\n",
       "  <thead>\n",
       "    <tr style=\"text-align: right;\">\n",
       "      <th></th>\n",
       "      <th>CC</th>\n",
       "      <th>Average</th>\n",
       "      <th>Median</th>\n",
       "      <th>Std_Dev</th>\n",
       "      <th>Min</th>\n",
       "      <th>Max</th>\n",
       "      <th>Count</th>\n",
       "    </tr>\n",
       "  </thead>\n",
       "  <tbody>\n",
       "    <tr>\n",
       "      <th>0</th>\n",
       "      <td>0-1000</td>\n",
       "      <td>29795.407407</td>\n",
       "      <td>31705.0</td>\n",
       "      <td>8704.508973</td>\n",
       "      <td>6950</td>\n",
       "      <td>42990</td>\n",
       "      <td>81</td>\n",
       "    </tr>\n",
       "    <tr>\n",
       "      <th>1</th>\n",
       "      <td>1000-1500</td>\n",
       "      <td>26639.833209</td>\n",
       "      <td>24888.0</td>\n",
       "      <td>12973.460654</td>\n",
       "      <td>2990</td>\n",
       "      <td>179990</td>\n",
       "      <td>1343</td>\n",
       "    </tr>\n",
       "    <tr>\n",
       "      <th>2</th>\n",
       "      <td>1500-2000</td>\n",
       "      <td>33860.166732</td>\n",
       "      <td>28990.0</td>\n",
       "      <td>20503.115925</td>\n",
       "      <td>2000</td>\n",
       "      <td>144500</td>\n",
       "      <td>5068</td>\n",
       "    </tr>\n",
       "    <tr>\n",
       "      <th>3</th>\n",
       "      <td>2000-2500</td>\n",
       "      <td>34190.734812</td>\n",
       "      <td>32980.0</td>\n",
       "      <td>18470.890763</td>\n",
       "      <td>1900</td>\n",
       "      <td>284888</td>\n",
       "      <td>3111</td>\n",
       "    </tr>\n",
       "    <tr>\n",
       "      <th>4</th>\n",
       "      <td>2500-3000</td>\n",
       "      <td>50370.697368</td>\n",
       "      <td>42999.0</td>\n",
       "      <td>32782.362990</td>\n",
       "      <td>1450</td>\n",
       "      <td>359850</td>\n",
       "      <td>2356</td>\n",
       "    </tr>\n",
       "    <tr>\n",
       "      <th>5</th>\n",
       "      <td>3000-3500</td>\n",
       "      <td>38899.603633</td>\n",
       "      <td>37990.0</td>\n",
       "      <td>23312.711781</td>\n",
       "      <td>2000</td>\n",
       "      <td>265980</td>\n",
       "      <td>1211</td>\n",
       "    </tr>\n",
       "    <tr>\n",
       "      <th>6</th>\n",
       "      <td>3500-4000</td>\n",
       "      <td>38516.812073</td>\n",
       "      <td>20947.5</td>\n",
       "      <td>57386.089274</td>\n",
       "      <td>1350</td>\n",
       "      <td>579900</td>\n",
       "      <td>878</td>\n",
       "    </tr>\n",
       "    <tr>\n",
       "      <th>7</th>\n",
       "      <td>4000-5000</td>\n",
       "      <td>82551.545455</td>\n",
       "      <td>72990.0</td>\n",
       "      <td>48207.934018</td>\n",
       "      <td>10490</td>\n",
       "      <td>314988</td>\n",
       "      <td>231</td>\n",
       "    </tr>\n",
       "    <tr>\n",
       "      <th>8</th>\n",
       "      <td>Over 5000</td>\n",
       "      <td>67729.408027</td>\n",
       "      <td>57000.0</td>\n",
       "      <td>50920.371996</td>\n",
       "      <td>9999</td>\n",
       "      <td>479880</td>\n",
       "      <td>299</td>\n",
       "    </tr>\n",
       "  </tbody>\n",
       "</table>\n",
       "</div>"
      ],
      "text/plain": [
       "          CC       Average   Median       Std_Dev    Min     Max  Count\n",
       "0     0-1000  29795.407407  31705.0   8704.508973   6950   42990     81\n",
       "1  1000-1500  26639.833209  24888.0  12973.460654   2990  179990   1343\n",
       "2  1500-2000  33860.166732  28990.0  20503.115925   2000  144500   5068\n",
       "3  2000-2500  34190.734812  32980.0  18470.890763   1900  284888   3111\n",
       "4  2500-3000  50370.697368  42999.0  32782.362990   1450  359850   2356\n",
       "5  3000-3500  38899.603633  37990.0  23312.711781   2000  265980   1211\n",
       "6  3500-4000  38516.812073  20947.5  57386.089274   1350  579900    878\n",
       "7  4000-5000  82551.545455  72990.0  48207.934018  10490  314988    231\n",
       "8  Over 5000  67729.408027  57000.0  50920.371996   9999  479880    299"
      ]
     },
     "execution_count": 28,
     "metadata": {},
     "output_type": "execute_result"
    }
   ],
   "source": [
    "price_statistics_by_category(dfA, 'CC')"
   ]
  },
  {
   "cell_type": "code",
   "execution_count": 29,
   "metadata": {},
   "outputs": [
    {
     "data": {
      "text/html": [
       "<div>\n",
       "<style scoped>\n",
       "    .dataframe tbody tr th:only-of-type {\n",
       "        vertical-align: middle;\n",
       "    }\n",
       "\n",
       "    .dataframe tbody tr th {\n",
       "        vertical-align: top;\n",
       "    }\n",
       "\n",
       "    .dataframe thead th {\n",
       "        text-align: right;\n",
       "    }\n",
       "</style>\n",
       "<table border=\"1\" class=\"dataframe\">\n",
       "  <thead>\n",
       "    <tr style=\"text-align: right;\">\n",
       "      <th></th>\n",
       "      <th>CC</th>\n",
       "      <th>Average</th>\n",
       "      <th>Median</th>\n",
       "      <th>Std_Dev</th>\n",
       "      <th>Min</th>\n",
       "      <th>Max</th>\n",
       "      <th>Count</th>\n",
       "    </tr>\n",
       "  </thead>\n",
       "  <tbody>\n",
       "    <tr>\n",
       "      <th>0</th>\n",
       "      <td>0-1000</td>\n",
       "      <td>18562.200000</td>\n",
       "      <td>18990.0</td>\n",
       "      <td>7600.985859</td>\n",
       "      <td>3000</td>\n",
       "      <td>29500</td>\n",
       "      <td>15</td>\n",
       "    </tr>\n",
       "    <tr>\n",
       "      <th>1</th>\n",
       "      <td>1000-1500</td>\n",
       "      <td>11847.543779</td>\n",
       "      <td>10000.0</td>\n",
       "      <td>6847.273623</td>\n",
       "      <td>2400</td>\n",
       "      <td>44990</td>\n",
       "      <td>217</td>\n",
       "    </tr>\n",
       "    <tr>\n",
       "      <th>2</th>\n",
       "      <td>1500-2000</td>\n",
       "      <td>17394.516547</td>\n",
       "      <td>13980.0</td>\n",
       "      <td>12131.350178</td>\n",
       "      <td>1000</td>\n",
       "      <td>66950</td>\n",
       "      <td>695</td>\n",
       "    </tr>\n",
       "    <tr>\n",
       "      <th>3</th>\n",
       "      <td>2000-2500</td>\n",
       "      <td>25047.837705</td>\n",
       "      <td>20925.0</td>\n",
       "      <td>15521.657383</td>\n",
       "      <td>2000</td>\n",
       "      <td>95000</td>\n",
       "      <td>610</td>\n",
       "    </tr>\n",
       "    <tr>\n",
       "      <th>4</th>\n",
       "      <td>2500-3000</td>\n",
       "      <td>28585.256757</td>\n",
       "      <td>26962.5</td>\n",
       "      <td>14773.081708</td>\n",
       "      <td>4300</td>\n",
       "      <td>112996</td>\n",
       "      <td>444</td>\n",
       "    </tr>\n",
       "    <tr>\n",
       "      <th>5</th>\n",
       "      <td>3000-3500</td>\n",
       "      <td>32435.418803</td>\n",
       "      <td>31990.0</td>\n",
       "      <td>15834.589210</td>\n",
       "      <td>4990</td>\n",
       "      <td>99990</td>\n",
       "      <td>117</td>\n",
       "    </tr>\n",
       "    <tr>\n",
       "      <th>6</th>\n",
       "      <td>3500-4000</td>\n",
       "      <td>32132.750000</td>\n",
       "      <td>21845.0</td>\n",
       "      <td>38435.063740</td>\n",
       "      <td>7500</td>\n",
       "      <td>239000</td>\n",
       "      <td>100</td>\n",
       "    </tr>\n",
       "    <tr>\n",
       "      <th>7</th>\n",
       "      <td>4000-5000</td>\n",
       "      <td>85075.005952</td>\n",
       "      <td>89990.0</td>\n",
       "      <td>34514.843971</td>\n",
       "      <td>8900</td>\n",
       "      <td>169990</td>\n",
       "      <td>168</td>\n",
       "    </tr>\n",
       "    <tr>\n",
       "      <th>8</th>\n",
       "      <td>Over 5000</td>\n",
       "      <td>49776.948718</td>\n",
       "      <td>44245.0</td>\n",
       "      <td>24289.238851</td>\n",
       "      <td>9000</td>\n",
       "      <td>124990</td>\n",
       "      <td>78</td>\n",
       "    </tr>\n",
       "  </tbody>\n",
       "</table>\n",
       "</div>"
      ],
      "text/plain": [
       "          CC       Average   Median       Std_Dev   Min     Max  Count\n",
       "0     0-1000  18562.200000  18990.0   7600.985859  3000   29500     15\n",
       "1  1000-1500  11847.543779  10000.0   6847.273623  2400   44990    217\n",
       "2  1500-2000  17394.516547  13980.0  12131.350178  1000   66950    695\n",
       "3  2000-2500  25047.837705  20925.0  15521.657383  2000   95000    610\n",
       "4  2500-3000  28585.256757  26962.5  14773.081708  4300  112996    444\n",
       "5  3000-3500  32435.418803  31990.0  15834.589210  4990   99990    117\n",
       "6  3500-4000  32132.750000  21845.0  38435.063740  7500  239000    100\n",
       "7  4000-5000  85075.005952  89990.0  34514.843971  8900  169990    168\n",
       "8  Over 5000  49776.948718  44245.0  24289.238851  9000  124990     78"
      ]
     },
     "execution_count": 29,
     "metadata": {},
     "output_type": "execute_result"
    }
   ],
   "source": [
    "price_statistics_by_category(dfM, 'CC')"
   ]
  },
  {
   "cell_type": "code",
   "execution_count": 30,
   "metadata": {},
   "outputs": [],
   "source": [
    "def plot_strip_comparison(df, categorical_column):\n",
    "    plt.figure(figsize=(18, 12))\n",
    "    sns.stripplot(\n",
    "        data=df, \n",
    "        x=categorical_column, \n",
    "        y='Price', \n",
    "        hue='Gearbox', \n",
    "        dodge=True, \n",
    "        jitter=True, \n",
    "        palette='Set1'\n",
    "    )\n",
    "    plt.title(f'Price Comparison by {categorical_column} for Manual and Automatic Vehicles')\n",
    "    plt.xlabel(categorical_column)\n",
    "    plt.ylabel('Price (AU$)')\n",
    "    plt.xticks(rotation=45, ha='right')\n",
    "    plt.legend(title='Gearbox')\n",
    "    plt.tight_layout()\n",
    "    plt.show()"
   ]
  },
  {
   "cell_type": "code",
   "execution_count": 31,
   "metadata": {},
   "outputs": [
    {
     "data": {
      "image/png": "[encoded data removed]",
      "text/plain": [
       "<Figure size 1296x864 with 1 Axes>"
      ]
     },
     "metadata": {
      "needs_background": "light"
     },
     "output_type": "display_data"
    }
   ],
   "source": [
    "plot_strip_comparison(df, 'CC')"
   ]
  },
  {
   "cell_type": "markdown",
   "metadata": {},
   "source": [
    "<div dir=\"rtl\" style=\"text-align: right; white-space: pre-line;\">\n",
    "<b>נשים לב שכמעט בכל הקטגוריות יש ביקוש גבוה יותר (צפיפות גבוהה יותר) לרכבים אוטומטיים, נבחן את הביקוש לפי שנים.<b>\n",
    "</div>"
   ]
  },
  {
   "cell_type": "code",
   "execution_count": 32,
   "metadata": {},
   "outputs": [
    {
     "data": {
      "image/png": "[encoded data removed]",
      "text/plain": [
       "<Figure size 1296x720 with 1 Axes>"
      ]
     },
     "metadata": {
      "needs_background": "light"
     },
     "output_type": "display_data"
    }
   ],
   "source": [
    "def plot_by_category(df, category_column, target_column):\n",
    "    survival_data = df.groupby(category_column)[target_column].value_counts(normalize=True).unstack() * 100\n",
    "    survival_data.plot(kind='bar', stacked=True, figsize=(18, 10), color=['blue', 'red'])\n",
    "    plt.title(f'{target_column} Percentages by {category_column}')\n",
    "    plt.xlabel(category_column.capitalize())\n",
    "    plt.ylabel('Percentage')\n",
    "    hue= target_column\n",
    "    plt.legend(title=target_column.capitalize())\n",
    "    plt.xticks(rotation=0)\n",
    "    plt.show()\n",
    "    \n",
    "plot_by_category(df, 'Year','Gearbox')"
   ]
  },
  {
   "cell_type": "markdown",
   "metadata": {},
   "source": [
    "---\n",
    "<div dir=\"rtl\" style=\"text-align: right; white-space: pre-line;\">\n",
    "<b><b>\n",
    "מסקנה ראשונה:\n",
    "בשוק הרכב האוסטרלי, רכבים עם תיבת גיר אוטומטית יקרים יותר ובעלי טווח מחירים רחב וגבוה יותר מרכבים עם תיבת גיר ידנית כמעט בכל קטגוריות נפח המנוע (CC).  טווח המחירים הגדול יותר ברכבים אוטומטיים נובע מהשדרוגים והאפשרויות המתקדמות שמגיעות עם רכבים אלו. בנוסף, ניתן לראות שעם השנים אחוז הרכבים האוטומטיים מסה\"כ הרכבים בכל שנה עולה ולכן נסיק שהציבור האוסטרלי מעדיף לשלם יותר בעבור התוספות והשידרוגים שמציעים רכבים אוטומטיים, ולכן ליצרנים וליבואני הרכב באוסטרליה עדיף לנסות להשקיע יותר בשוק הרכבים בעלי תיבת גיר אוטומטית.\n",
    "</div>\n"
   ]
  },
  {
   "cell_type": "markdown",
   "metadata": {},
   "source": [
    "---"
   ]
  },
  {
   "cell_type": "markdown",
   "metadata": {},
   "source": [
    "<div dir=\"rtl\" style=\"text-align: right; white-space: pre-line;\">\n",
    "<b>לאחר ניתוח הנתונים כאשר הם מחולקים לרכב אוטומטי וידני ובנוסף לפי טווחי נפח מנוע (CC), ניתן לראות כי מחירי הרכב האוטומטיים גבוהים משמעותית ממחירי הרכבים הידניים בכל קטגוריות נפח המנוע. יוצאת הדופן היא קטגוריית ה-4000-5000 סמ\"ק, שבה טווח המחירים זהה יחסית בין רכבים אוטומטיים ורכבים ידניים, מלבד 6 ערכים חריגים השייכים לרכבים אוטומטיים.<b>\n",
    "</div>"
   ]
  },
  {
   "cell_type": "code",
   "execution_count": 33,
   "metadata": {},
   "outputs": [
    {
     "data": {
      "text/html": [
       "<div>\n",
       "<style scoped>\n",
       "    .dataframe tbody tr th:only-of-type {\n",
       "        vertical-align: middle;\n",
       "    }\n",
       "\n",
       "    .dataframe tbody tr th {\n",
       "        vertical-align: top;\n",
       "    }\n",
       "\n",
       "    .dataframe thead th {\n",
       "        text-align: right;\n",
       "    }\n",
       "</style>\n",
       "<table border=\"1\" class=\"dataframe\">\n",
       "  <thead>\n",
       "    <tr style=\"text-align: right;\">\n",
       "      <th></th>\n",
       "      <th>ID</th>\n",
       "      <th>Name</th>\n",
       "      <th>Price</th>\n",
       "      <th>Brand</th>\n",
       "      <th>Model</th>\n",
       "      <th>Variant</th>\n",
       "      <th>Series</th>\n",
       "      <th>Year</th>\n",
       "      <th>Kilometers</th>\n",
       "      <th>Type</th>\n",
       "      <th>Gearbox</th>\n",
       "      <th>Fuel</th>\n",
       "      <th>Status</th>\n",
       "      <th>CC</th>\n",
       "      <th>Color</th>\n",
       "      <th>Seating Capacity</th>\n",
       "    </tr>\n",
       "  </thead>\n",
       "  <tbody>\n",
       "    <tr>\n",
       "      <th>27</th>\n",
       "      <td>12481004</td>\n",
       "      <td>2004 Nissan Patrol ST (4X4) GU IV</td>\n",
       "      <td>38980</td>\n",
       "      <td>Nissan</td>\n",
       "      <td>Patrol</td>\n",
       "      <td>ST (4X4)</td>\n",
       "      <td>GU IV</td>\n",
       "      <td>2004</td>\n",
       "      <td>282190</td>\n",
       "      <td>Wagon</td>\n",
       "      <td>Manual</td>\n",
       "      <td>Diesel</td>\n",
       "      <td>Used</td>\n",
       "      <td>4000-5000</td>\n",
       "      <td>Gold</td>\n",
       "      <td>7</td>\n",
       "    </tr>\n",
       "    <tr>\n",
       "      <th>32</th>\n",
       "      <td>12529077</td>\n",
       "      <td>2018 Toyota Landcruiser Workmate (4X4) VDJ79R ...</td>\n",
       "      <td>74990</td>\n",
       "      <td>Toyota</td>\n",
       "      <td>Landcruiser</td>\n",
       "      <td>Workmate (4X4)</td>\n",
       "      <td>VDJ79R MY18</td>\n",
       "      <td>2018</td>\n",
       "      <td>117722</td>\n",
       "      <td>Cab Chassis</td>\n",
       "      <td>Manual</td>\n",
       "      <td>Diesel</td>\n",
       "      <td>Used</td>\n",
       "      <td>4000-5000</td>\n",
       "      <td>White</td>\n",
       "      <td>3</td>\n",
       "    </tr>\n",
       "    <tr>\n",
       "      <th>39</th>\n",
       "      <td>12545918</td>\n",
       "      <td>2018 Toyota Landcruiser Workmate (4X4) VDJ79R ...</td>\n",
       "      <td>81990</td>\n",
       "      <td>Toyota</td>\n",
       "      <td>Landcruiser</td>\n",
       "      <td>Workmate (4X4)</td>\n",
       "      <td>VDJ79R MY18</td>\n",
       "      <td>2018</td>\n",
       "      <td>108293</td>\n",
       "      <td>Double Cab Chassis</td>\n",
       "      <td>Manual</td>\n",
       "      <td>Diesel</td>\n",
       "      <td>Used</td>\n",
       "      <td>4000-5000</td>\n",
       "      <td>White</td>\n",
       "      <td>5</td>\n",
       "    </tr>\n",
       "    <tr>\n",
       "      <th>48</th>\n",
       "      <td>12576018</td>\n",
       "      <td>2020 Toyota Landcruiser LC200 VX (4X4) VDJ200R</td>\n",
       "      <td>119985</td>\n",
       "      <td>Toyota</td>\n",
       "      <td>Landcruiser</td>\n",
       "      <td>LC200 VX (4X4)</td>\n",
       "      <td>VDJ200R</td>\n",
       "      <td>2020</td>\n",
       "      <td>50943</td>\n",
       "      <td>Wagon</td>\n",
       "      <td>Automatic</td>\n",
       "      <td>Diesel</td>\n",
       "      <td>Used</td>\n",
       "      <td>4000-5000</td>\n",
       "      <td>White</td>\n",
       "      <td>7</td>\n",
       "    </tr>\n",
       "    <tr>\n",
       "      <th>53</th>\n",
       "      <td>12594410</td>\n",
       "      <td>2012 Porsche Cayenne S Series 2 MY12</td>\n",
       "      <td>49990</td>\n",
       "      <td>Porsche</td>\n",
       "      <td>Cayenne</td>\n",
       "      <td>S</td>\n",
       "      <td>Series 2 MY12</td>\n",
       "      <td>2012</td>\n",
       "      <td>175584</td>\n",
       "      <td>Wagon</td>\n",
       "      <td>Automatic</td>\n",
       "      <td>Premium Unleaded Petrol</td>\n",
       "      <td>Used</td>\n",
       "      <td>4000-5000</td>\n",
       "      <td>Black</td>\n",
       "      <td>5</td>\n",
       "    </tr>\n",
       "    <tr>\n",
       "      <th>...</th>\n",
       "      <td>...</td>\n",
       "      <td>...</td>\n",
       "      <td>...</td>\n",
       "      <td>...</td>\n",
       "      <td>...</td>\n",
       "      <td>...</td>\n",
       "      <td>...</td>\n",
       "      <td>...</td>\n",
       "      <td>...</td>\n",
       "      <td>...</td>\n",
       "      <td>...</td>\n",
       "      <td>...</td>\n",
       "      <td>...</td>\n",
       "      <td>...</td>\n",
       "      <td>...</td>\n",
       "      <td>...</td>\n",
       "    </tr>\n",
       "    <tr>\n",
       "      <th>16869</th>\n",
       "      <td>12851191</td>\n",
       "      <td>2005 Toyota Landcruiser GXL (4X4) UZJ100R</td>\n",
       "      <td>28990</td>\n",
       "      <td>Toyota</td>\n",
       "      <td>Landcruiser</td>\n",
       "      <td>GXL (4X4)</td>\n",
       "      <td>UZJ100R</td>\n",
       "      <td>2005</td>\n",
       "      <td>231691</td>\n",
       "      <td>Wagon</td>\n",
       "      <td>Automatic</td>\n",
       "      <td>Unleaded Petrol</td>\n",
       "      <td>Used</td>\n",
       "      <td>4000-5000</td>\n",
       "      <td>Grey</td>\n",
       "      <td>8</td>\n",
       "    </tr>\n",
       "    <tr>\n",
       "      <th>16973</th>\n",
       "      <td>12851765</td>\n",
       "      <td>2006 Nissan Patrol DX (4X4) GU</td>\n",
       "      <td>27950</td>\n",
       "      <td>Nissan</td>\n",
       "      <td>Patrol</td>\n",
       "      <td>DX (4X4)</td>\n",
       "      <td>GU</td>\n",
       "      <td>2006</td>\n",
       "      <td>411023</td>\n",
       "      <td>Leaf Cab Chassis</td>\n",
       "      <td>Manual</td>\n",
       "      <td>Diesel</td>\n",
       "      <td>Used</td>\n",
       "      <td>4000-5000</td>\n",
       "      <td>White</td>\n",
       "      <td>3</td>\n",
       "    </tr>\n",
       "    <tr>\n",
       "      <th>16974</th>\n",
       "      <td>12851768</td>\n",
       "      <td>2021 BMW X6 M Competition F96</td>\n",
       "      <td>210800</td>\n",
       "      <td>BMW</td>\n",
       "      <td>X6</td>\n",
       "      <td>M Competition</td>\n",
       "      <td>F96</td>\n",
       "      <td>2021</td>\n",
       "      <td>18500</td>\n",
       "      <td>Wagon</td>\n",
       "      <td>Automatic</td>\n",
       "      <td>Premium Unleaded Petrol</td>\n",
       "      <td>Used</td>\n",
       "      <td>4000-5000</td>\n",
       "      <td>Blue</td>\n",
       "      <td>5</td>\n",
       "    </tr>\n",
       "    <tr>\n",
       "      <th>17002</th>\n",
       "      <td>12852048</td>\n",
       "      <td>2021 Ford Mustang GT 5.0 V8 FN MY21.5</td>\n",
       "      <td>81990</td>\n",
       "      <td>Ford</td>\n",
       "      <td>Mustang</td>\n",
       "      <td>GT 5.0 V8</td>\n",
       "      <td>FN MY21.5</td>\n",
       "      <td>2021</td>\n",
       "      <td>14450</td>\n",
       "      <td>Fastback</td>\n",
       "      <td>Automatic</td>\n",
       "      <td>Premium Unleaded Petrol</td>\n",
       "      <td>Used</td>\n",
       "      <td>4000-5000</td>\n",
       "      <td>Blue</td>\n",
       "      <td>4</td>\n",
       "    </tr>\n",
       "    <tr>\n",
       "      <th>17038</th>\n",
       "      <td>12852422</td>\n",
       "      <td>2020 Ford Mustang GT 5.0 V8 FN MY20</td>\n",
       "      <td>67999</td>\n",
       "      <td>Ford</td>\n",
       "      <td>Mustang</td>\n",
       "      <td>GT 5.0 V8</td>\n",
       "      <td>FN MY20</td>\n",
       "      <td>2020</td>\n",
       "      <td>20879</td>\n",
       "      <td>Fastback</td>\n",
       "      <td>Automatic</td>\n",
       "      <td>Premium Unleaded Petrol</td>\n",
       "      <td>Used</td>\n",
       "      <td>4000-5000</td>\n",
       "      <td>Blue</td>\n",
       "      <td>4</td>\n",
       "    </tr>\n",
       "  </tbody>\n",
       "</table>\n",
       "<p>399 rows × 16 columns</p>\n",
       "</div>"
      ],
      "text/plain": [
       "             ID                                               Name   Price  \\\n",
       "27     12481004                  2004 Nissan Patrol ST (4X4) GU IV   38980   \n",
       "32     12529077  2018 Toyota Landcruiser Workmate (4X4) VDJ79R ...   74990   \n",
       "39     12545918  2018 Toyota Landcruiser Workmate (4X4) VDJ79R ...   81990   \n",
       "48     12576018     2020 Toyota Landcruiser LC200 VX (4X4) VDJ200R  119985   \n",
       "53     12594410               2012 Porsche Cayenne S Series 2 MY12   49990   \n",
       "...         ...                                                ...     ...   \n",
       "16869  12851191          2005 Toyota Landcruiser GXL (4X4) UZJ100R   28990   \n",
       "16973  12851765                     2006 Nissan Patrol DX (4X4) GU   27950   \n",
       "16974  12851768                      2021 BMW X6 M Competition F96  210800   \n",
       "17002  12852048              2021 Ford Mustang GT 5.0 V8 FN MY21.5   81990   \n",
       "17038  12852422                2020 Ford Mustang GT 5.0 V8 FN MY20   67999   \n",
       "\n",
       "         Brand        Model         Variant         Series  Year  Kilometers  \\\n",
       "27      Nissan       Patrol        ST (4X4)          GU IV  2004      282190   \n",
       "32      Toyota  Landcruiser  Workmate (4X4)    VDJ79R MY18  2018      117722   \n",
       "39      Toyota  Landcruiser  Workmate (4X4)    VDJ79R MY18  2018      108293   \n",
       "48      Toyota  Landcruiser  LC200 VX (4X4)        VDJ200R  2020       50943   \n",
       "53     Porsche      Cayenne               S  Series 2 MY12  2012      175584   \n",
       "...        ...          ...             ...            ...   ...         ...   \n",
       "16869   Toyota  Landcruiser       GXL (4X4)        UZJ100R  2005      231691   \n",
       "16973   Nissan       Patrol        DX (4X4)             GU  2006      411023   \n",
       "16974      BMW           X6   M Competition            F96  2021       18500   \n",
       "17002     Ford      Mustang       GT 5.0 V8      FN MY21.5  2021       14450   \n",
       "17038     Ford      Mustang       GT 5.0 V8        FN MY20  2020       20879   \n",
       "\n",
       "                     Type    Gearbox                     Fuel Status  \\\n",
       "27                  Wagon     Manual                   Diesel   Used   \n",
       "32            Cab Chassis     Manual                   Diesel   Used   \n",
       "39     Double Cab Chassis     Manual                   Diesel   Used   \n",
       "48                  Wagon  Automatic                   Diesel   Used   \n",
       "53                  Wagon  Automatic  Premium Unleaded Petrol   Used   \n",
       "...                   ...        ...                      ...    ...   \n",
       "16869               Wagon  Automatic          Unleaded Petrol   Used   \n",
       "16973    Leaf Cab Chassis     Manual                   Diesel   Used   \n",
       "16974               Wagon  Automatic  Premium Unleaded Petrol   Used   \n",
       "17002            Fastback  Automatic  Premium Unleaded Petrol   Used   \n",
       "17038            Fastback  Automatic  Premium Unleaded Petrol   Used   \n",
       "\n",
       "              CC  Color Seating Capacity  \n",
       "27     4000-5000   Gold                7  \n",
       "32     4000-5000  White                3  \n",
       "39     4000-5000  White                5  \n",
       "48     4000-5000  White                7  \n",
       "53     4000-5000  Black                5  \n",
       "...          ...    ...              ...  \n",
       "16869  4000-5000   Grey                8  \n",
       "16973  4000-5000  White                3  \n",
       "16974  4000-5000   Blue                5  \n",
       "17002  4000-5000   Blue                4  \n",
       "17038  4000-5000   Blue                4  \n",
       "\n",
       "[399 rows x 16 columns]"
      ]
     },
     "execution_count": 33,
     "metadata": {},
     "output_type": "execute_result"
    }
   ],
   "source": [
    "df_1 = df[(df['CC'] == '4000-5000')]\n",
    "dfA_1 = dfA[(dfA['CC'] == '4000-5000')]\n",
    "dfM_1 = dfM[(dfM['CC'] == '4000-5000')]\n",
    "\n",
    "df_1"
   ]
  },
  {
   "cell_type": "code",
   "execution_count": 34,
   "metadata": {},
   "outputs": [],
   "source": [
    "def extract_single_valued(df, categorical_column):\n",
    "    value_counts = df[categorical_column].value_counts()\n",
    "    result_df = pd.DataFrame({\n",
    "        'Value': value_counts.index,\n",
    "        'Frequency': value_counts.values\n",
    "    })\n",
    "    result_df = result_df.sort_values(by='Frequency', ascending=False).reset_index(drop=True)\n",
    "    return result_df.head()"
   ]
  },
  {
   "cell_type": "markdown",
   "metadata": {},
   "source": [
    "<div dir=\"rtl\" style=\"text-align: right; white-space: pre-line;\">\n",
    "<b>סוגי הרכבים המובילים בקטגוריית 4,000-5,000 סמ\"ק<b>\n",
    "</div>"
   ]
  },
  {
   "cell_type": "code",
   "execution_count": 35,
   "metadata": {},
   "outputs": [
    {
     "data": {
      "text/html": [
       "<div>\n",
       "<style scoped>\n",
       "    .dataframe tbody tr th:only-of-type {\n",
       "        vertical-align: middle;\n",
       "    }\n",
       "\n",
       "    .dataframe tbody tr th {\n",
       "        vertical-align: top;\n",
       "    }\n",
       "\n",
       "    .dataframe thead th {\n",
       "        text-align: right;\n",
       "    }\n",
       "</style>\n",
       "<table border=\"1\" class=\"dataframe\">\n",
       "  <thead>\n",
       "    <tr style=\"text-align: right;\">\n",
       "      <th></th>\n",
       "      <th>Value</th>\n",
       "      <th>Frequency</th>\n",
       "    </tr>\n",
       "  </thead>\n",
       "  <tbody>\n",
       "    <tr>\n",
       "      <th>0</th>\n",
       "      <td>Landcruiser</td>\n",
       "      <td>185</td>\n",
       "    </tr>\n",
       "    <tr>\n",
       "      <th>1</th>\n",
       "      <td>Mustang</td>\n",
       "      <td>74</td>\n",
       "    </tr>\n",
       "    <tr>\n",
       "      <th>2</th>\n",
       "      <td>Landcruiser 70 Series</td>\n",
       "      <td>53</td>\n",
       "    </tr>\n",
       "    <tr>\n",
       "      <th>3</th>\n",
       "      <td>Patrol</td>\n",
       "      <td>12</td>\n",
       "    </tr>\n",
       "    <tr>\n",
       "      <th>4</th>\n",
       "      <td>Range Rover Sport</td>\n",
       "      <td>12</td>\n",
       "    </tr>\n",
       "  </tbody>\n",
       "</table>\n",
       "</div>"
      ],
      "text/plain": [
       "                   Value  Frequency\n",
       "0            Landcruiser        185\n",
       "1                Mustang         74\n",
       "2  Landcruiser 70 Series         53\n",
       "3                 Patrol         12\n",
       "4      Range Rover Sport         12"
      ]
     },
     "execution_count": 35,
     "metadata": {},
     "output_type": "execute_result"
    }
   ],
   "source": [
    "extract_single_valued(df_1, 'Model')"
   ]
  },
  {
   "cell_type": "markdown",
   "metadata": {},
   "source": [
    "<div dir=\"rtl\" style=\"text-align: right; white-space: pre-line;\">\n",
    "<b>סוגי הרכבים המובילים בקטגוריית 4,000-5,000 סמ\"ק לרכבים אוטומטיים<b>\n",
    "</div>"
   ]
  },
  {
   "cell_type": "code",
   "execution_count": 36,
   "metadata": {},
   "outputs": [
    {
     "data": {
      "text/html": [
       "<div>\n",
       "<style scoped>\n",
       "    .dataframe tbody tr th:only-of-type {\n",
       "        vertical-align: middle;\n",
       "    }\n",
       "\n",
       "    .dataframe tbody tr th {\n",
       "        vertical-align: top;\n",
       "    }\n",
       "\n",
       "    .dataframe thead th {\n",
       "        text-align: right;\n",
       "    }\n",
       "</style>\n",
       "<table border=\"1\" class=\"dataframe\">\n",
       "  <thead>\n",
       "    <tr style=\"text-align: right;\">\n",
       "      <th></th>\n",
       "      <th>Value</th>\n",
       "      <th>Frequency</th>\n",
       "    </tr>\n",
       "  </thead>\n",
       "  <tbody>\n",
       "    <tr>\n",
       "      <th>0</th>\n",
       "      <td>Landcruiser</td>\n",
       "      <td>104</td>\n",
       "    </tr>\n",
       "    <tr>\n",
       "      <th>1</th>\n",
       "      <td>Mustang</td>\n",
       "      <td>54</td>\n",
       "    </tr>\n",
       "    <tr>\n",
       "      <th>2</th>\n",
       "      <td>Range Rover Sport</td>\n",
       "      <td>12</td>\n",
       "    </tr>\n",
       "    <tr>\n",
       "      <th>3</th>\n",
       "      <td>Range Rover</td>\n",
       "      <td>9</td>\n",
       "    </tr>\n",
       "    <tr>\n",
       "      <th>4</th>\n",
       "      <td>Falcon</td>\n",
       "      <td>9</td>\n",
       "    </tr>\n",
       "  </tbody>\n",
       "</table>\n",
       "</div>"
      ],
      "text/plain": [
       "               Value  Frequency\n",
       "0        Landcruiser        104\n",
       "1            Mustang         54\n",
       "2  Range Rover Sport         12\n",
       "3        Range Rover          9\n",
       "4             Falcon          9"
      ]
     },
     "execution_count": 36,
     "metadata": {},
     "output_type": "execute_result"
    }
   ],
   "source": [
    "extract_single_valued(dfA_1, 'Model')"
   ]
  },
  {
   "cell_type": "markdown",
   "metadata": {},
   "source": [
    "<div dir=\"rtl\" style=\"text-align: right; white-space: pre-line;\">\n",
    "<b>סוגי הרכבים המובילים בקטגוריית 4,000-5,000 סמ\"ק לרכבים ידניים<b>\n",
    "</div>"
   ]
  },
  {
   "cell_type": "code",
   "execution_count": 37,
   "metadata": {},
   "outputs": [
    {
     "data": {
      "text/html": [
       "<div>\n",
       "<style scoped>\n",
       "    .dataframe tbody tr th:only-of-type {\n",
       "        vertical-align: middle;\n",
       "    }\n",
       "\n",
       "    .dataframe tbody tr th {\n",
       "        vertical-align: top;\n",
       "    }\n",
       "\n",
       "    .dataframe thead th {\n",
       "        text-align: right;\n",
       "    }\n",
       "</style>\n",
       "<table border=\"1\" class=\"dataframe\">\n",
       "  <thead>\n",
       "    <tr style=\"text-align: right;\">\n",
       "      <th></th>\n",
       "      <th>Value</th>\n",
       "      <th>Frequency</th>\n",
       "    </tr>\n",
       "  </thead>\n",
       "  <tbody>\n",
       "    <tr>\n",
       "      <th>0</th>\n",
       "      <td>Landcruiser</td>\n",
       "      <td>81</td>\n",
       "    </tr>\n",
       "    <tr>\n",
       "      <th>1</th>\n",
       "      <td>Landcruiser 70 Series</td>\n",
       "      <td>53</td>\n",
       "    </tr>\n",
       "    <tr>\n",
       "      <th>2</th>\n",
       "      <td>Mustang</td>\n",
       "      <td>20</td>\n",
       "    </tr>\n",
       "    <tr>\n",
       "      <th>3</th>\n",
       "      <td>Patrol</td>\n",
       "      <td>10</td>\n",
       "    </tr>\n",
       "    <tr>\n",
       "      <th>4</th>\n",
       "      <td>Commodore</td>\n",
       "      <td>2</td>\n",
       "    </tr>\n",
       "  </tbody>\n",
       "</table>\n",
       "</div>"
      ],
      "text/plain": [
       "                   Value  Frequency\n",
       "0            Landcruiser         81\n",
       "1  Landcruiser 70 Series         53\n",
       "2                Mustang         20\n",
       "3                 Patrol         10\n",
       "4              Commodore          2"
      ]
     },
     "execution_count": 37,
     "metadata": {},
     "output_type": "execute_result"
    }
   ],
   "source": [
    "extract_single_valued(dfM_1, 'Model')"
   ]
  },
  {
   "cell_type": "markdown",
   "metadata": {},
   "source": [
    "---\n",
    "<div dir=\"rtl\" style=\"text-align: right; white-space: pre-line;\">\n",
    "<b><b>\n",
    "מסקנה שנייה:\n",
    "בשונה משאר הקטגוריות, בקטגוריה של נפח מנוע בטווח 4000-5000 סמ\"ק המחירים דומים בין רכבים ידניים לאוטומטיים. מניתוח סוגי הרכבים הנפוצים באותה קטגוריה, רוב הרכבים הם מסוג רכבי שטח כמו טנדרים וג'יפים, שמתאימים לתנאים המדבריים של אוסטרליה. לכן, הסקתי שהמחיר דומה בין רכבים אוטומטיים לידניים עקב הביקוש הגבוה לרכבים עם נפח מנוע זה מהסוגים הנ\"ל בשוק האוסטרלי.\n",
    "\n",
    "</div>"
   ]
  },
  {
   "cell_type": "markdown",
   "metadata": {},
   "source": [
    "---"
   ]
  },
  {
   "cell_type": "markdown",
   "metadata": {},
   "source": [
    "<div dir=\"rtl\" style=\"text-align: right; white-space: pre-line;\">\n",
    "<b>נבחן קורלצייה בעמודות מספריות<b>\n",
    "</div>"
   ]
  },
  {
   "cell_type": "code",
   "execution_count": 38,
   "metadata": {},
   "outputs": [
    {
     "data": {
      "text/plain": [
       "['Price', 'Year', 'Kilometers']"
      ]
     },
     "execution_count": 38,
     "metadata": {},
     "output_type": "execute_result"
    }
   ],
   "source": [
    "numeric_columns = df.select_dtypes(include=['int', 'float']).columns.tolist()\n",
    "numeric_columns"
   ]
  },
  {
   "cell_type": "code",
   "execution_count": 39,
   "metadata": {},
   "outputs": [],
   "source": [
    "def plot_correlation_heatmap(df, columns,method = \"spearman\"):\n",
    "    correlation_data = df[columns].dropna()\n",
    "    correlation_matrix = correlation_data.corr(method=method)\n",
    "    plt.figure(figsize=(8, 6))\n",
    "    sns.heatmap(correlation_matrix, annot=True, cmap='coolwarm', vmin=-1, vmax=1)\n",
    "    plt.title(f'Correlation Heatmap')\n",
    "    plt.show()\n",
    "    \n",
    "def plot_regplot(df, x_col, y_col):\n",
    "    filtered_data = df.dropna(subset=[x_col, y_col])\n",
    "    plt.figure(figsize=(10, 6))\n",
    "    sns.regplot(data=filtered_data, x=x_col, y=y_col)\n",
    "    plt.title(f'Relationship between {y_col} by {x_col}')\n",
    "    plt.xlabel(x_col)\n",
    "    plt.ylabel(y_col)\n",
    "    plt.show()"
   ]
  },
  {
   "cell_type": "code",
   "execution_count": 40,
   "metadata": {},
   "outputs": [
    {
     "data": {
      "image/png": "[encoded data removed]",
      "text/plain": [
       "<Figure size 576x432 with 2 Axes>"
      ]
     },
     "metadata": {
      "needs_background": "light"
     },
     "output_type": "display_data"
    }
   ],
   "source": [
    "plot_correlation_heatmap(df, numeric_columns)"
   ]
  },
  {
   "cell_type": "code",
   "execution_count": 43,
   "metadata": {},
   "outputs": [
    {
     "data": {
      "image/png": "[encoded data removed]",
      "text/plain": [
       "<Figure size 1152x576 with 1 Axes>"
      ]
     },
     "metadata": {
      "needs_background": "light"
     },
     "output_type": "display_data"
    }
   ],
   "source": [
    "plt.figure(figsize=(16, 8))\n",
    "plt.subplot(1, 2, 2)\n",
    "sns.regplot(x='Year', y='Price', data=df, scatter=False, line_kws={\"color\":\"blue\"})\n",
    "plt.title('The connection between the year and the Price\\nr = 0.73')\n",
    "plt.grid(True)\n",
    "\n",
    "plt.tight_layout()\n",
    "plt.show()"
   ]
  },
  {
   "cell_type": "markdown",
   "metadata": {},
   "source": [
    "<div dir=\"rtl\" style=\"text-align: right; white-space: pre-line;\">\n",
    "<b>נבחן אם הקשרים ישמרו בחלוקה לרכבים אוטומטיים<b>\n",
    "</div>"
   ]
  },
  {
   "cell_type": "code",
   "execution_count": 44,
   "metadata": {},
   "outputs": [
    {
     "data": {
      "image/png": "[encoded data removed]",
      "text/plain": [
       "<Figure size 576x432 with 2 Axes>"
      ]
     },
     "metadata": {
      "needs_background": "light"
     },
     "output_type": "display_data"
    }
   ],
   "source": [
    "plot_correlation_heatmap(dfA, numeric_columns)"
   ]
  },
  {
   "cell_type": "markdown",
   "metadata": {},
   "source": [
    "<div dir=\"rtl\" style=\"text-align: right; white-space: pre-line;\">\n",
    "<b>נבחן אם הקשרים ישמרו בחלוקה לרכבים ידניים<b>\n",
    "</div>"
   ]
  },
  {
   "cell_type": "code",
   "execution_count": 45,
   "metadata": {},
   "outputs": [
    {
     "data": {
      "image/png": "[encoded data removed]",
      "text/plain": [
       "<Figure size 576x432 with 2 Axes>"
      ]
     },
     "metadata": {
      "needs_background": "light"
     },
     "output_type": "display_data"
    }
   ],
   "source": [
    "plot_correlation_heatmap(dfM, numeric_columns)"
   ]
  },
  {
   "cell_type": "markdown",
   "metadata": {},
   "source": [
    "---\n",
    "<div dir=\"rtl\" style=\"text-align: right; white-space: pre-line;\">\n",
    "<b><b>\n",
    "מסקנה שלישית:\n",
    "ישנה קורלציה חיובית (0.73) בין השנה לבין המחיר, לכן ניתן להגיד שככל שהרכב ישן יותר המחיר נמוך יותר, מסקנה זו וכל שאר הקשרים והמסקנות שניתן לראות מהקורלציה נשארים אותו הדבר כמעט ברכבים אוטומטיים. לעומת זאת, ברכבים ידניים ניתן לראות שהקשר בין המחיר והשנה פחות חזק (0.68) ביחס לקשר ברכבים אוטומטיים (0.72) לכן נסיק שלאורך השנים רכבים ידניים פחות מאבדים מערכם ביחס לרכבים אוטומטיים.\n",
    "</div>"
   ]
  },
  {
   "cell_type": "markdown",
   "metadata": {},
   "source": [
    "___\n",
    "# <b>4.</b> <b style='color:#F05454'>conclusions</b>\n"
   ]
  },
  {
   "cell_type": "markdown",
   "metadata": {},
   "source": [
    "<div dir=\"rtl\" style=\"text-align: right; white-space: pre-line;\">\n",
    "<b><b>\n",
    "סיכום כל המסקנות מהמחברת:\n",
    "</div>"
   ]
  },
  {
   "cell_type": "markdown",
   "metadata": {},
   "source": [
    "<div dir=\"rtl\" style=\"text-align: right; white-space: pre-line;\">\n",
    "<b><b>\n",
    "מסקנה ראשונה:\n",
    "בשוק הרכב האוסטרלי, רכבים עם תיבת גיר אוטומטית יקרים יותר ובעלי טווח מחירים רחב וגבוה יותר מרכבים עם תיבת גיר ידנית כמעט בכל קטגוריות נפח המנוע (CC). טווח המחירים הגדול יותר ברכבים אוטומטיים נובע מהשדרוגים והאפשרויות המתקדמות שמגיעות עם רכבים אלו. בנוסף, ניתן לראות שעם השנים אחוז הרכבים האוטומטיים מסה\"כ הרכבים בכל שנה עולה ולכן נסיק שהציבור האוסטרלי מעדיף לשלם יותר בעבור התוספות והשידרוגים שמציעים רכבים אוטומטיים, ולכן ליצרנים וליבואני הרכב באוסטרליה עדיף לנסות להשקיע יותר בשוק הרכבים בעלי תיבת גיר אוטומטית.\n",
    "</div>\n"
   ]
  },
  {
   "cell_type": "markdown",
   "metadata": {},
   "source": [
    "<div dir=\"rtl\" style=\"text-align: right; white-space: pre-line;\">\n",
    "<b><b>\n",
    "מסקנה שנייה:\n",
    "בשונה משאר הקטגוריות, בקטגוריה של נפח מנוע בטווח 4000-5000 סמ\"ק המחירים דומים בין רכבים ידניים לאוטומטיים. מניתוח סוגי הרכבים הנפוצים באותה קטגוריה, רוב הרכבים הם מסוג רכבי שטח כמו טנדרים וג'יפים, שמתאימים לתנאים המדבריים של אוסטרליה. לכן, הסקתי שהמחיר דומה בין רכבים אוטומטיים לידניים עקב הביקוש הגבוה לרכבים עם נפח מנוע זה מהסוגים הנ\"ל בשוק האוסטרלי.\n",
    "</div>\n"
   ]
  },
  {
   "cell_type": "markdown",
   "metadata": {},
   "source": [
    "<div dir=\"rtl\" style=\"text-align: right; white-space: pre-line;\">\n",
    "<b><b>\n",
    "מסקנה שלישית:\n",
    "ישנה קורלציה חיובית (0.73) בין השנה לבין המחיר, לכן ניתן להגיד שככל שהרכב ישן יותר המחיר נמוך יותר, מסקנה זו וכל שאר הקשרים והמסקנות שניתן לראות מהקורלציה נשארים אותו הדבר כמעט ברכבים אוטומטיים. לעומת זאת, ברכבים ידניים ניתן לראות שהקשר בין המחיר והשנה פחות חזק (0.68) ביחס לקשר ברכבים אוטומטיים (0.72) לכן נסיק שלאורך השנים רכבים ידניים פחות מאבדים מערכם ביחס לרכבים אוטומטיים.\n",
    "</div>"
   ]
  },
  {
   "cell_type": "code",
   "execution_count": null,
   "metadata": {},
   "outputs": [],
   "source": []
  }
 ],
 "metadata": {
  "colab": {
   "authorship_tag": "ABX9TyPkVxqShdsRZhvCWZo7Jsgv",
   "provenance": []
  },
  "kernelspec": {
   "display_name": "Python 3",
   "language": "python",
   "name": "python3"
  },
  "language_info": {
   "codemirror_mode": {
    "name": "ipython",
    "version": 3
   },
   "file_extension": ".py",
   "mimetype": "text/x-python",
   "name": "python",
   "nbconvert_exporter": "python",
   "pygments_lexer": "ipython3",
   "version": "3.8.3"
  }
 },
 "nbformat": 4,
 "nbformat_minor": 4
}
